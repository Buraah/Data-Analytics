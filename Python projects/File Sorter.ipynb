{
 "cells": [
  {
   "cell_type": "markdown",
   "id": "39269940-023d-41be-8601-ece468625742",
   "metadata": {},
   "source": [
    "# Automatic File Sorter (Second Project)"
   ]
  },
  {
   "cell_type": "code",
   "execution_count": 2,
   "id": "b5208cdb-ecc2-4d81-b080-faf48902c641",
   "metadata": {},
   "outputs": [],
   "source": [
    "import os\n",
    "import shutil\n",
    "\n",
    "# Imports the operating system and shell utilities"
   ]
  },
  {
   "cell_type": "code",
   "execution_count": 3,
   "id": "a2e69066-d892-444a-8c6f-ed601a49dade",
   "metadata": {},
   "outputs": [],
   "source": [
    "path = r\"C:\\Users\\Home\\Pictures\\TestFolder\\\\\"\n",
    "\n",
    "# The path to the folder you are trying to sort. 'r' tells Python to read it as a raw string."
   ]
  },
  {
   "cell_type": "code",
   "execution_count": 4,
   "id": "0ea3674a-86db-4f80-b4cc-e690262c0681",
   "metadata": {},
   "outputs": [],
   "source": [
    "file_name = os.listdir(path)\n",
    "\n",
    "# os.listdir(path) Shows you all the files in the folder you are trying to sort"
   ]
  },
  {
   "cell_type": "code",
   "execution_count": 12,
   "id": "0a57b0f6-816e-47c9-a56c-50256d824dfe",
   "metadata": {},
   "outputs": [],
   "source": [
    "folder_names = ['Image files', 'Pdf files', 'Video files']\n",
    "\n",
    "for loop in range(0,3):\n",
    "    if not os.path.exists(path + folder_names[loop]):\n",
    "        os.makedirs(path + folder_names[loop])\n",
    "\n",
    "# This creates a list of new folders for your files, loops through to find if the folders aready exists.\n",
    "# If they do not exist, then it creates these folders in the directory."
   ]
  },
  {
   "cell_type": "code",
   "execution_count": 5,
   "id": "5997c951-4be7-4620-b27c-1233ca752ac8",
   "metadata": {},
   "outputs": [],
   "source": [
    "for file in file_name:\n",
    "    if file.lower().endswith(\".jpg\") and not os.path.exists(path + \"Image files\\\\\" + file):\n",
    "        shutil.move(path + file, path + \"Image files\\\\\" + file)\n",
    "        \n",
    "    elif file.lower().endswith(\".png\") and not os.path.exists(path + \"Image files\\\\\" + file):\n",
    "        shutil.move(path + file, path + \"Image files\\\\\" + file)\n",
    "\n",
    "    elif \".MP4\" in file and not os.path.exists(path + \"Video files\\\\\" + file):\n",
    "        shutil.move(path + file, path + \"Video files\\\\\" + file)\n",
    "\n",
    "    elif \".MOV\" in file and not os.path.exists(path + \"Video files\\\\\" + file):\n",
    "        shutil.move(path + file, path + \"Video files\\\\\" + file)\n",
    "\n",
    "    elif \".pdf\" in file and not os.path.exists(path + \"Pdf files\\\\\" + file):\n",
    "        shutil.move(path + file, path + \"Pdf files\\\\\" + file)\n"
   ]
  },
  {
   "cell_type": "code",
   "execution_count": null,
   "id": "b4081587-2f1a-4e26-b0cf-601a527fe7e8",
   "metadata": {},
   "outputs": [],
   "source": []
  },
  {
   "cell_type": "code",
   "execution_count": null,
   "id": "dc1fa0c8-ebd1-4bb6-933b-669054621e58",
   "metadata": {},
   "outputs": [],
   "source": []
  }
 ],
 "metadata": {
  "kernelspec": {
   "display_name": "Python 3 (ipykernel)",
   "language": "python",
   "name": "python3"
  },
  "language_info": {
   "codemirror_mode": {
    "name": "ipython",
    "version": 3
   },
   "file_extension": ".py",
   "mimetype": "text/x-python",
   "name": "python",
   "nbconvert_exporter": "python",
   "pygments_lexer": "ipython3",
   "version": "3.12.7"
  }
 },
 "nbformat": 4,
 "nbformat_minor": 5
}
