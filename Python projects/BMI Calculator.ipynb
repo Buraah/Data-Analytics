{
 "cells": [
  {
   "cell_type": "markdown",
   "id": "094b5728-67e4-4bf5-856a-84a4ffde571c",
   "metadata": {},
   "source": [
    "# BMI CALCULATOR (First Project)"
   ]
  },
  {
   "cell_type": "code",
   "execution_count": null,
   "id": "8a481d33-0ef8-4844-9fc9-876aded3b0ae",
   "metadata": {},
   "outputs": [
    {
     "name": "stdout",
     "output_type": "stream",
     "text": [
      "Enter your name Victoria\n",
      "Enter your weight in pounds:  162\n",
      "Enter your height in inches:  100\n"
     ]
    },
    {
     "name": "stdout",
     "output_type": "stream",
     "text": [
      "11.3886\n",
      "Victoria, You are underweight!\n"
     ]
    }
   ],
   "source": [
    "name = input(\"Enter your name\")\n",
    "\n",
    "weight = int(input(\"Enter your weight in pounds: \"))\n",
    "height = int(input(\"Enter your height in inches: \"))\n",
    "\n",
    "BMI = (weight * 703) / (height * height)\n",
    "print(BMI)\n",
    "\n",
    "if BMI>0:\n",
    "    if(BMI < 18.5):\n",
    "        print(name +\", You are underweight!\")\n",
    "    elif(BMI<=24.9):\n",
    "        print(name +\", You are normal weight\")\n",
    "    elif(BMI<=29.9):\n",
    "        print(name +\", You are overweight!\")\n",
    "    elif(BMI<=34.9):\n",
    "        print(name +\", You are obesed!\")\n",
    "    elif(BMI<=39.9):\n",
    "        print(name +\", You are severely obesed!\")\n",
    "    else:\n",
    "        print(name +\", You are morbidly obesed!\")\n",
    "else:\n",
    "    print(\"Please enter a valid input\")"
   ]
  },
  {
   "cell_type": "code",
   "execution_count": null,
   "id": "ed45c230-cd81-448d-8a69-93065e7985e6",
   "metadata": {},
   "outputs": [],
   "source": []
  },
  {
   "cell_type": "code",
   "execution_count": null,
   "id": "b112f97e-319a-42a5-9909-0291eb679ff6",
   "metadata": {},
   "outputs": [],
   "source": [
    "# BMI = (weight in pounds x 703) / (height in inches x height in inches)"
   ]
  }
 ],
 "metadata": {
  "kernelspec": {
   "display_name": "Python 3 (ipykernel)",
   "language": "python",
   "name": "python3"
  },
  "language_info": {
   "codemirror_mode": {
    "name": "ipython",
    "version": 3
   },
   "file_extension": ".py",
   "mimetype": "text/x-python",
   "name": "python",
   "nbconvert_exporter": "python",
   "pygments_lexer": "ipython3",
   "version": "3.12.7"
  }
 },
 "nbformat": 4,
 "nbformat_minor": 5
}
